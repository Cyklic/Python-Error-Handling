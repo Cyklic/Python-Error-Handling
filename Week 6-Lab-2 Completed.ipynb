{
 "cells": [
  {
   "cell_type": "markdown",
   "metadata": {},
   "source": [
    "# Week 6 Lab"
   ]
  },
  {
   "cell_type": "markdown",
   "metadata": {},
   "source": [
    "### Problem 1\n",
    "Handle the exception thrown by the code below by using <code>try</code> and <code>except</code> blocks."
   ]
  },
  {
   "cell_type": "markdown",
   "metadata": {},
   "source": [
    "Write a Python program to handle a ZeroDivisionError exception when dividing a number by zero."
   ]
  },
  {
   "cell_type": "code",
   "execution_count": 1,
   "metadata": {},
   "outputs": [
    {
     "name": "stdout",
     "output_type": "stream",
     "text": [
      "Name: Leonard Umoru \n",
      "Student Number: 041152507\n"
     ]
    }
   ],
   "source": [
    "print('Name: Leonard Umoru \\nStudent Number: 041152507')"
   ]
  },
  {
   "cell_type": "code",
   "execution_count": 3,
   "metadata": {},
   "outputs": [
    {
     "name": "stdout",
     "output_type": "stream",
     "text": [
      "Cannot divide by zero\n"
     ]
    }
   ],
   "source": [
    "try: \n",
    "    division = 2 / 0\n",
    "except ZeroDivisionError:\n",
    "    print ('Cannot divide by zero')\n",
    "else:\n",
    "    print (division)"
   ]
  },
  {
   "cell_type": "code",
   "execution_count": null,
   "metadata": {},
   "outputs": [],
   "source": []
  },
  {
   "cell_type": "code",
   "execution_count": null,
   "metadata": {},
   "outputs": [],
   "source": []
  },
  {
   "cell_type": "markdown",
   "metadata": {},
   "source": [
    "### Problem 2"
   ]
  },
  {
   "cell_type": "markdown",
   "metadata": {},
   "source": [
    "Write a Python program that prompts the user to input an integer and raises a ValueError exception if the input is not a valid integer."
   ]
  },
  {
   "cell_type": "code",
   "execution_count": 9,
   "metadata": {},
   "outputs": [],
   "source": [
    "def get_integer_input():\n",
    "    try:\n",
    "        # Attempt to get an integer input from the user and store it in the 'value' variable.\n",
    "        prompt = int(input('Enter an integer: '))\n",
    "       \n",
    "        # Return the integer value.\n",
    "        return prompt\n",
    "        \n",
    "       \n",
    "    except ValueError:\n",
    "        print('Invalid input')\n",
    "        # Handle the exception if the user's input is not a valid integer.\n",
    "\n"
   ]
  },
  {
   "cell_type": "code",
   "execution_count": 11,
   "metadata": {},
   "outputs": [
    {
     "name": "stdin",
     "output_type": "stream",
     "text": [
      "Enter an integer:  w\n"
     ]
    },
    {
     "name": "stdout",
     "output_type": "stream",
     "text": [
      "Invalid input\n",
      "None\n"
     ]
    }
   ],
   "source": [
    "# Call the get_integer_input function to get an integer input from the user with the provided prompt.\n",
    "\n",
    "result = get_integer_input()\n",
    "\n",
    "# Print the input value obtained from the function.\n",
    "print(result)\n"
   ]
  },
  {
   "cell_type": "markdown",
   "metadata": {},
   "source": [
    "### Problem 3"
   ]
  },
  {
   "cell_type": "markdown",
   "metadata": {},
   "source": [
    "Write a Python program that opens a file and handles a FileNotFoundError exception if the file does not exist.\n",
    "\n",
    "exception FileNotFoundError:\n",
    "\n",
    "Raised when a file or directory is requested but doesn’t exist."
   ]
  },
  {
   "cell_type": "code",
   "execution_count": 13,
   "metadata": {},
   "outputs": [
    {
     "name": "stdout",
     "output_type": "stream",
     "text": [
      "The requested file was not found\n"
     ]
    }
   ],
   "source": [
    "try:\n",
    "    file_check = open('some_file', 'r')\n",
    "    file_check.read()\n",
    "except FileNotFoundError:\n",
    "    print('The requested file was not found')\n",
    "    "
   ]
  },
  {
   "cell_type": "code",
   "execution_count": null,
   "metadata": {},
   "outputs": [],
   "source": []
  },
  {
   "cell_type": "code",
   "execution_count": null,
   "metadata": {},
   "outputs": [],
   "source": []
  },
  {
   "cell_type": "markdown",
   "metadata": {},
   "source": [
    "### Problem 4"
   ]
  },
  {
   "cell_type": "markdown",
   "metadata": {},
   "source": [
    "Write a Python program that prompts the user to input two numbers and raises a TypeError exception if the inputs are not numerical.\n",
    "\n",
    "exception TypeError:\n",
    "\n",
    "Raised when an operation or function is applied to an object of inappropriate type. The associated value is a string giving details about the type mismatch."
   ]
  },
  {
   "cell_type": "code",
   "execution_count": 15,
   "metadata": {},
   "outputs": [
    {
     "name": "stdin",
     "output_type": "stream",
     "text": [
      "Enter the first number:  2\n",
      "Enter the second number:  w\n"
     ]
    },
    {
     "name": "stdout",
     "output_type": "stream",
     "text": [
      "Invalid input: 'w' is not a number\n"
     ]
    }
   ],
   "source": [
    "def two_num(prompt):\n",
    "    user_num = input(prompt)\n",
    "    if not user_num.replace('.', '', 1).isdigit():\n",
    "        raise TypeError(f\"Invalid input: '{user_num}' is not a number\")\n",
    "    return float(user_num)\n",
    "\n",
    "try:\n",
    "    num1 = two_num('Enter the first number: ')\n",
    "    num2 = two_num('Enter the second number: ')\n",
    "    print(f\"Your two numbers are {num1} and {num2}\")\n",
    "except TypeError as e:\n",
    "    print(e)\n"
   ]
  },
  {
   "cell_type": "markdown",
   "metadata": {},
   "source": [
    "### Problem 5\n",
    "Write a function that asks for an integer and prints the square of it. Use a <code>while</code> loop with a <code>try</code>, <code>except</code>, <code>else</code> block to account for incorrect inputs."
   ]
  },
  {
   "cell_type": "code",
   "execution_count": 17,
   "metadata": {},
   "outputs": [],
   "source": [
    "def square():\n",
    "    try:\n",
    "        num = int(input('Enter a number from 0-9: '))\n",
    "        while 1 <= num < 10:\n",
    "            return f'The square of {num} is {num ** 2}'\n",
    "            break           \n",
    "    except:\n",
    "        print('Invalid input')\n",
    "    else:\n",
    "        return 'Number out of range'\n",
    "            "
   ]
  },
  {
   "cell_type": "code",
   "execution_count": 19,
   "metadata": {},
   "outputs": [
    {
     "name": "stdin",
     "output_type": "stream",
     "text": [
      "Enter a number from 0-9:  w\n"
     ]
    },
    {
     "name": "stdout",
     "output_type": "stream",
     "text": [
      "Invalid input\n",
      "None\n"
     ]
    }
   ],
   "source": [
    "result = square()\n",
    "print(result)"
   ]
  },
  {
   "cell_type": "code",
   "execution_count": null,
   "metadata": {},
   "outputs": [],
   "source": []
  },
  {
   "cell_type": "markdown",
   "metadata": {},
   "source": [
    "### Problem 6"
   ]
  },
  {
   "cell_type": "markdown",
   "metadata": {},
   "source": [
    "Write a Python program that opens a file and handles a PermissionError exception if there is a permission issue.\n",
    "\n",
    "exception PermissionError:\n",
    "\n",
    "Raised when trying to run an operation without the adequate access rights - for example filesystem permissions."
   ]
  },
  {
   "cell_type": "code",
   "execution_count": 21,
   "metadata": {},
   "outputs": [
    {
     "name": "stdout",
     "output_type": "stream",
     "text": [
      "File ran_file.txt created.\n",
      "Permissions of ran_file.txt changed to read-only for the owner.\n",
      "File content:\n",
      "This is a random test file.\n"
     ]
    }
   ],
   "source": [
    "import os\n",
    "import stat\n",
    "\n",
    "def create_file(file_path, content): #Create a file with the specified content\n",
    "    with open(file_path, 'w') as file:\n",
    "        file.write(content)\n",
    "    print(f'File {file_path} created.')\n",
    "\n",
    "def change_file_permissions(file_path): #Change file permissions to be readable only by the creator\n",
    "    os.chmod(file_path, stat.S_IRUSR)  #Creator can read, no permissions for others\n",
    "    print(f'Permissions of {file_path} changed to read-only for the owner.')\n",
    "\n",
    "def open_file(file_path):\n",
    "    try:\n",
    "        with open(file_path, 'r') as file:\n",
    "            content = file.read()\n",
    "            print('File content:')\n",
    "            print(content)\n",
    "    except PermissionError:\n",
    "        print(f'PermissionError: You do not have permission to access {file_path}.')\n",
    "\n",
    "#Specify the file path and content\n",
    "file_path = 'ran_file.txt'\n",
    "content = 'This is a random test file.'\n",
    "\n",
    "#Create the file\n",
    "create_file(file_path, content)\n",
    "\n",
    "#Change its permissions to simulate a permission error\n",
    "change_file_permissions(file_path)\n",
    "\n",
    "#Attempt to open the file and handle potential errors\n",
    "open_file(file_path)\n"
   ]
  },
  {
   "cell_type": "code",
   "execution_count": 23,
   "metadata": {},
   "outputs": [
    {
     "name": "stdout",
     "output_type": "stream",
     "text": [
      "PermissionError: You do not have permission to access ran_file.txt.\n"
     ]
    }
   ],
   "source": [
    "try:\n",
    "     with open(file_path, 'w') as file:\n",
    "        content = file.write('Something')\n",
    "        print('File content:')\n",
    "        print(content)\n",
    "except PermissionError:\n",
    "    print(f'PermissionError: You do not have permission to access {file_path}.')"
   ]
  },
  {
   "cell_type": "code",
   "execution_count": null,
   "metadata": {},
   "outputs": [],
   "source": []
  },
  {
   "cell_type": "markdown",
   "metadata": {},
   "source": [
    "### Problem 7"
   ]
  },
  {
   "cell_type": "markdown",
   "metadata": {},
   "source": [
    "Write a Python program that executes an operation on a list and handles an IndexError exception if the index is out of range.\n",
    "\n",
    "exception IndexError:\n",
    "\n",
    "Raised when a sequence subscript is out of range. (Slice indices are silently truncated to fall in the allowed range; if an index is not an integer, TypeError is raised.)"
   ]
  },
  {
   "cell_type": "code",
   "execution_count": 25,
   "metadata": {},
   "outputs": [
    {
     "name": "stdout",
     "output_type": "stream",
     "text": [
      "Index not found in list\n"
     ]
    }
   ],
   "source": [
    "clr_list = ['red','blue','green']\n",
    "\n",
    "try:\n",
    "    up_clr = clr_list[3].upper()\n",
    "    print(up_clr)\n",
    "except IndexError:\n",
    "    print('Index not found in list')\n",
    "\n",
    "    "
   ]
  },
  {
   "cell_type": "code",
   "execution_count": null,
   "metadata": {},
   "outputs": [],
   "source": []
  },
  {
   "cell_type": "code",
   "execution_count": null,
   "metadata": {},
   "outputs": [],
   "source": []
  },
  {
   "cell_type": "markdown",
   "metadata": {},
   "source": [
    "### Problem 8"
   ]
  },
  {
   "cell_type": "markdown",
   "metadata": {},
   "source": [
    "Write a Python program that executes division and handles an ArithmeticError exception if there is an arithmetic error.\n",
    "\n",
    "exception ArithmeticError:\n",
    "\n",
    "The base class for those built-in exceptions that are raised for various arithmetic errors: OverflowError, ZeroDivisionError, FloatingPointError."
   ]
  },
  {
   "cell_type": "code",
   "execution_count": 27,
   "metadata": {},
   "outputs": [],
   "source": [
    "def divide(num1, num2):\n",
    "    try:\n",
    "        result = num1 / num2\n",
    "        print(f'Result of {num1} / {num2} is: {result}')\n",
    "    except ArithmeticError as e:\n",
    "        print(f'The specific Error is {str(e)}')\n"
   ]
  },
  {
   "cell_type": "code",
   "execution_count": 29,
   "metadata": {},
   "outputs": [
    {
     "name": "stdout",
     "output_type": "stream",
     "text": [
      "Result of 15 / 3 is: 5.0\n",
      "The specific Error is division by zero\n",
      "Result of 1e+307 / 1e-307 is: inf\n",
      "The specific Error is float division by zero\n"
     ]
    }
   ],
   "source": [
    "divide(15, 3)\n",
    "divide(10, 0) \n",
    "divide(1e307, 1e-307)  \n",
    "divide(0.0, 0.0) "
   ]
  },
  {
   "cell_type": "code",
   "execution_count": null,
   "metadata": {},
   "outputs": [],
   "source": []
  },
  {
   "cell_type": "markdown",
   "metadata": {},
   "source": [
    "# Great Job!"
   ]
  }
 ],
 "metadata": {
  "kernelspec": {
   "display_name": "Python 3 (ipykernel)",
   "language": "python",
   "name": "python3"
  },
  "language_info": {
   "codemirror_mode": {
    "name": "ipython",
    "version": 3
   },
   "file_extension": ".py",
   "mimetype": "text/x-python",
   "name": "python",
   "nbconvert_exporter": "python",
   "pygments_lexer": "ipython3",
   "version": "3.12.4"
  }
 },
 "nbformat": 4,
 "nbformat_minor": 4
}
